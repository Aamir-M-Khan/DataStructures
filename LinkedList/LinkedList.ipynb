{
 "cells": [
  {
   "cell_type": "code",
   "execution_count": 29,
   "metadata": {},
   "outputs": [],
   "source": [
    "class Node:\n",
    "        def __init__(self, value, next_node = None):\n",
    "                self.value = value\n",
    "                self.next_node = next_node"
   ]
  },
  {
   "cell_type": "code",
   "execution_count": 32,
   "metadata": {},
   "outputs": [],
   "source": [
    "class LinkedList:\n",
    "    def __init__(self, start):\n",
    "        self.start = start\n",
    "\n",
    "    def __getitem__(self, index):\n",
    "        sliding_index = 0\n",
    "        sliding_node = self.start\n",
    "        while sliding_index < index:\n",
    "            sliding_node = sliding_node.next_node\n",
    "\n",
    "            sliding_index = sliding_index + 1\n",
    "\n",
    "            if sliding_node.next_node == None:\n",
    "                return f\"index {index} doesn't exist\"\n",
    "        return sliding_node.value\n",
    "    \n",
    "    def search(self, value): \n",
    "        sliding_index = 0\n",
    "        sliding_node = self.start\n",
    "        while sliding_node != None:\n",
    "            if sliding_node.value == value:\n",
    "                return sliding_index\n",
    "            else:\n",
    "                sliding_node = sliding_node.next_node\n",
    "                sliding_index = sliding_index + 1\n",
    "\n",
    "    def insert(self, value, index):\n",
    "        new_node = Node(value)\n",
    "\n",
    "        if index == 0:\n",
    "            new_node.next_node = self.start     \n",
    "            self.start = new_node               # this makes the new_node as the first node in the linked list  \n",
    "\n",
    "        else:\n",
    "            sliding_index = 0\n",
    "            sliding_node = self.start\n",
    "\n",
    "            while sliding_index < index-1:\n",
    "                sliding_node = sliding_node.next_node\n",
    "                sliding_index = sliding_index + 1\n",
    "\n",
    "            sliding_node.next_node = new_node\n",
    "           # new_node.next"
   ]
  },
  {
   "cell_type": "code",
   "execution_count": 33,
   "metadata": {},
   "outputs": [
    {
     "name": "stdout",
     "output_type": "stream",
     "text": [
      "1\n",
      "3\n",
      "index 5 doesn't exist\n",
      "2\n",
      "None\n",
      "index 1 doesn't exist\n",
      "20\n"
     ]
    },
    {
     "ename": "AttributeError",
     "evalue": "'NoneType' object has no attribute 'next_node'",
     "output_type": "error",
     "traceback": [
      "\u001b[1;31m---------------------------------------------------------------------------\u001b[0m",
      "\u001b[1;31mAttributeError\u001b[0m                            Traceback (most recent call last)",
      "Cell \u001b[1;32mIn[33], line 37\u001b[0m\n\u001b[0;32m     34\u001b[0m     \u001b[38;5;28mprint\u001b[39m(linked_list[\u001b[38;5;241m5\u001b[39m])  \u001b[38;5;66;03m# Should print 30\u001b[39;00m\n\u001b[0;32m     36\u001b[0m \u001b[38;5;66;03m# Run the tests\u001b[39;00m\n\u001b[1;32m---> 37\u001b[0m \u001b[43mrun_tests\u001b[49m\u001b[43m(\u001b[49m\u001b[43m)\u001b[49m\n",
      "Cell \u001b[1;32mIn[33], line 32\u001b[0m, in \u001b[0;36mrun_tests\u001b[1;34m()\u001b[0m\n\u001b[0;32m     30\u001b[0m linked_list\u001b[38;5;241m.\u001b[39minsert(\u001b[38;5;241m20\u001b[39m, \u001b[38;5;241m0\u001b[39m)\n\u001b[0;32m     31\u001b[0m \u001b[38;5;28mprint\u001b[39m(linked_list[\u001b[38;5;241m0\u001b[39m])  \u001b[38;5;66;03m# Should print 20\u001b[39;00m\n\u001b[1;32m---> 32\u001b[0m \u001b[43mlinked_list\u001b[49m\u001b[38;5;241;43m.\u001b[39;49m\u001b[43minsert\u001b[49m\u001b[43m(\u001b[49m\u001b[38;5;241;43m30\u001b[39;49m\u001b[43m,\u001b[49m\u001b[43m \u001b[49m\u001b[38;5;241;43m5\u001b[39;49m\u001b[43m)\u001b[49m  \u001b[38;5;66;03m# Should append 30 at the end\u001b[39;00m\n\u001b[0;32m     33\u001b[0m \u001b[38;5;28mprint\u001b[39m(linked_list[\u001b[38;5;241m4\u001b[39m])  \u001b[38;5;66;03m# Should print 4\u001b[39;00m\n\u001b[0;32m     34\u001b[0m \u001b[38;5;28mprint\u001b[39m(linked_list[\u001b[38;5;241m5\u001b[39m])\n",
      "Cell \u001b[1;32mIn[32], line 39\u001b[0m, in \u001b[0;36mLinkedList.insert\u001b[1;34m(self, value, index)\u001b[0m\n\u001b[0;32m     36\u001b[0m sliding_node \u001b[38;5;241m=\u001b[39m \u001b[38;5;28mself\u001b[39m\u001b[38;5;241m.\u001b[39mstart\n\u001b[0;32m     38\u001b[0m \u001b[38;5;28;01mwhile\u001b[39;00m sliding_index \u001b[38;5;241m<\u001b[39m index\u001b[38;5;241m-\u001b[39m\u001b[38;5;241m1\u001b[39m:\n\u001b[1;32m---> 39\u001b[0m     sliding_node \u001b[38;5;241m=\u001b[39m \u001b[43msliding_node\u001b[49m\u001b[38;5;241;43m.\u001b[39;49m\u001b[43mnext_node\u001b[49m\n\u001b[0;32m     40\u001b[0m     sliding_index \u001b[38;5;241m=\u001b[39m sliding_index \u001b[38;5;241m+\u001b[39m \u001b[38;5;241m1\u001b[39m\n\u001b[0;32m     42\u001b[0m sliding_node\u001b[38;5;241m.\u001b[39mnext_node \u001b[38;5;241m=\u001b[39m new_node\n",
      "\u001b[1;31mAttributeError\u001b[0m: 'NoneType' object has no attribute 'next_node'"
     ]
    }
   ],
   "source": [
    "# Test cases\n",
    "def run_tests():\n",
    "    # Create a sample linked list\n",
    "    node1 = Node(1)\n",
    "    node2 = Node(2)\n",
    "    node3 = Node(3)\n",
    "    node4 = Node(4)\n",
    "    \n",
    "    node1.next_node = node2\n",
    "    node2.next_node = node3\n",
    "    node3.next_node = node4\n",
    "    \n",
    "    linked_list = LinkedList(node1)\n",
    "\n",
    "    # Test __getitem__\n",
    "    print(linked_list[0])  # Should print 1\n",
    "    print(linked_list[2])  # Should print 3\n",
    "    try:\n",
    "        print(linked_list[5])  # Should raise an IndexError\n",
    "    except IndexError as e:\n",
    "        print(e)\n",
    "\n",
    "    # Test search\n",
    "    print(linked_list.search(3))  # Should print 2\n",
    "    print(linked_list.search(5))  # Should print \"Value 5 not found in the linked list\"\n",
    "\n",
    "    # Test insert\n",
    "    linked_list.insert(10, 1)\n",
    "    print(linked_list[1])  # Should print 10\n",
    "    linked_list.insert(20, 0)\n",
    "    print(linked_list[0])  # Should print 20\n",
    "    linked_list.insert(30, 5)  # Should append 30 at the end\n",
    "    print(linked_list[4])  # Should print 4\n",
    "    print(linked_list[5])  # Should print 30\n",
    "\n",
    "# Run the tests\n",
    "run_tests()"
   ]
  },
  {
   "cell_type": "code",
   "execution_count": null,
   "metadata": {},
   "outputs": [],
   "source": []
  }
 ],
 "metadata": {
  "kernelspec": {
   "display_name": "Python 3",
   "language": "python",
   "name": "python3"
  },
  "language_info": {
   "codemirror_mode": {
    "name": "ipython",
    "version": 3
   },
   "file_extension": ".py",
   "mimetype": "text/x-python",
   "name": "python",
   "nbconvert_exporter": "python",
   "pygments_lexer": "ipython3",
   "version": "3.11.3"
  }
 },
 "nbformat": 4,
 "nbformat_minor": 2
}
