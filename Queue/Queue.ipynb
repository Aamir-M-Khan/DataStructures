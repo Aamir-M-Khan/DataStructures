{
 "cells": [
  {
   "cell_type": "code",
   "execution_count": 6,
   "metadata": {},
   "outputs": [],
   "source": [
    "class Queue:\n",
    "    def __init__(self):\n",
    "        self._items = []\n",
    "\n",
    "    def enqueue(self, item):\n",
    "        self._items.append(item)\n",
    "\n",
    "    def dequeue(self):\n",
    "        if self.is_empty():\n",
    "            raise IndexError(\"Can't remove item from an empty Queue.\")\n",
    "        return self._items.pop(0)\n",
    "    \n",
    "    def is_empty(self):\n",
    "        return len(self._items) == 0\n",
    "    \n",
    "    def peek(self):\n",
    "        if self.is_empty():\n",
    "            raise IndexError(\"Nothing here.\")\n",
    "        return self._items[0]\n",
    "    \n",
    "    def size(self):\n",
    "        return len(self._items)\n",
    "    \n",
    "    def clear(self):\n",
    "        self._items.clear()\n",
    "\n",
    "    def __iter__(self):\n",
    "        return iter(self._items)\n",
    "    \n",
    "    def __len__(self):\n",
    "        return self.size()\n",
    "\n",
    "    def __contains__(self, item):\n",
    "        return item in self._items\n",
    "    "
   ]
  },
  {
   "cell_type": "code",
   "execution_count": 7,
   "metadata": {},
   "outputs": [
    {
     "name": "stdout",
     "output_type": "stream",
     "text": [
      "<__main__.Queue object at 0x00000180BB9B6690>\n",
      "1\n",
      "2\n",
      "2\n",
      "False\n",
      "True\n",
      "True\n",
      "False\n",
      "4\n",
      "5\n"
     ]
    }
   ],
   "source": [
    "# Example usage:\n",
    "if __name__ == \"__main__\":\n",
    "    queue = Queue()\n",
    "    queue.enqueue(1)\n",
    "    queue.enqueue(2)\n",
    "    queue.enqueue(3)\n",
    "    print(queue)           # Output: Queue([1, 2, 3])\n",
    "    print(queue.dequeue()) # Output: 1\n",
    "    print(queue.peek())    # Output: 2\n",
    "    print(queue.size())    # Output: 2\n",
    "    print(queue.is_empty())  # Output: False\n",
    "    queue.clear()\n",
    "    print(queue.is_empty())  # Output: True\n",
    "\n",
    "    queue.enqueue(4)\n",
    "    queue.enqueue(5)\n",
    "    print(4 in queue)      # Output: True\n",
    "    print(6 in queue)      # Output: False\n",
    "    for item in queue:\n",
    "        print(item)        # Output: 4 5"
   ]
  },
  {
   "cell_type": "code",
   "execution_count": null,
   "metadata": {},
   "outputs": [],
   "source": []
  }
 ],
 "metadata": {
  "kernelspec": {
   "display_name": "Python 3",
   "language": "python",
   "name": "python3"
  },
  "language_info": {
   "codemirror_mode": {
    "name": "ipython",
    "version": 3
   },
   "file_extension": ".py",
   "mimetype": "text/x-python",
   "name": "python",
   "nbconvert_exporter": "python",
   "pygments_lexer": "ipython3",
   "version": "3.11.3"
  }
 },
 "nbformat": 4,
 "nbformat_minor": 2
}
