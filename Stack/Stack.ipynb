{
 "cells": [
  {
   "cell_type": "code",
   "execution_count": 8,
   "metadata": {},
   "outputs": [],
   "source": [
    "class Stack:\n",
    "    def __init__(self):\n",
    "        self._items = []\n",
    "\n",
    "    def push(self, item):\n",
    "        self._items.append(item)\n",
    "\n",
    "    def pop(self):\n",
    "        if self.is_empty():\n",
    "            raise IndexError('NO item in the stack')\n",
    "        return self._items.pop()\n",
    "    \n",
    "    def peek(self):\n",
    "        if self.is_empty():\n",
    "            raise IndexError('No item in the stack')\n",
    "        return self._items[-1]\n",
    "    \n",
    "    def is_empty(self):\n",
    "        return len(self._items) == 0\n",
    "    \n",
    "    def size(self):\n",
    "        return len(self._items)\n",
    "    \n",
    "    def clear(self):\n",
    "        self._items.clear()\n",
    "\n",
    "    def __iter__(self):\n",
    "        return iter(self._items)\n",
    "    \n",
    "    def __len__(self):\n",
    "        return self.size()\n",
    "    \n",
    "    def __contains__(self, item):\n",
    "        return item in self._items\n",
    "\n"
   ]
  },
  {
   "cell_type": "code",
   "execution_count": 9,
   "metadata": {},
   "outputs": [
    {
     "name": "stdout",
     "output_type": "stream",
     "text": [
      "<__main__.Stack object at 0x000002569530E510>\n",
      "3\n",
      "2\n",
      "2\n",
      "False\n",
      "True\n",
      "True\n",
      "False\n",
      "4\n",
      "5\n"
     ]
    }
   ],
   "source": [
    "# Example usage:\n",
    "if __name__ == \"__main__\":\n",
    "    stack = Stack()\n",
    "    stack.push(1)\n",
    "    stack.push(2)\n",
    "    stack.push(3)\n",
    "    print(stack)          # Output: Stack([1, 2, 3])\n",
    "    print(stack.pop())    # Output: 3\n",
    "    print(stack.peek())   # Output: 2\n",
    "    print(stack.size())   # Output: 2\n",
    "    print(stack.is_empty())  # Output: False\n",
    "    stack.clear()\n",
    "    print(stack.is_empty())  # Output: True\n",
    "\n",
    "    stack.push(4)\n",
    "    stack.push(5)\n",
    "    print(4 in stack)     # Output: True\n",
    "    print(6 in stack)     # Output: False\n",
    "    for item in stack:\n",
    "        print(item)       # Output: 4 5"
   ]
  },
  {
   "cell_type": "code",
   "execution_count": null,
   "metadata": {},
   "outputs": [],
   "source": []
  }
 ],
 "metadata": {
  "kernelspec": {
   "display_name": "Python 3",
   "language": "python",
   "name": "python3"
  },
  "language_info": {
   "codemirror_mode": {
    "name": "ipython",
    "version": 3
   },
   "file_extension": ".py",
   "mimetype": "text/x-python",
   "name": "python",
   "nbconvert_exporter": "python",
   "pygments_lexer": "ipython3",
   "version": "3.11.3"
  }
 },
 "nbformat": 4,
 "nbformat_minor": 2
}
